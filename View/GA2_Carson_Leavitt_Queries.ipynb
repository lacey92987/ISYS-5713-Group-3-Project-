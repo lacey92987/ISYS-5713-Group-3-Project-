{
 "cells": [
  {
   "cell_type": "markdown",
   "metadata": {},
   "source": [
    "# GA2 - individual queries - Carson Leavitt\n",
    "  - Three queries (one query can satisfy one or more of the conditions)\n",
    "    - At least one includes two or more tables (via join or relationship) \n",
    "    - At least one with parameterized input\n",
    "    - At least one which includes aggregated data (group by or single aggregation)\n",
    "    - These queries should be included in the repository.  Defining what these queries do will be helpful in the README.md or other *markdown* documentation as appropriate to your repository.\n",
    "  - GitHub history of commits will be used as evidence of individual work."
   ]
  },
  {
   "cell_type": "code",
   "execution_count": 14,
   "metadata": {},
   "outputs": [],
   "source": [
    "import sqlite3\n",
    "import pandas as pd\n",
    "\n",
    "# define a function to run a query and return a dataframe, closing the connection when done\n",
    "\n",
    "def run_query(query, db_file):\n",
    "    with sqlite3.connect(db_file) as cnn:\n",
    "        return pd.read_sql(query, cnn)"
   ]
  },
  {
   "cell_type": "code",
   "execution_count": 15,
   "metadata": {},
   "outputs": [],
   "source": [
    "# specify the name of the database file in the Model folder\n",
    "db_file = '.\\Model\\database.db'\n",
    "\n",
    "# open a connection to the database\n",
    "cnn = sqlite3.connect(db_file)\n",
    "\n"
   ]
  },
  {
   "cell_type": "markdown",
   "metadata": {},
   "source": [
    "## Query 1\n",
    "Return the 10 most powerful superpowers"
   ]
  },
  {
   "cell_type": "code",
   "execution_count": 7,
   "metadata": {},
   "outputs": [
    {
     "ename": "OperationalError",
     "evalue": "unable to open database file",
     "output_type": "error",
     "traceback": [
      "\u001b[1;31m---------------------------------------------------------------------------\u001b[0m",
      "\u001b[1;31mOperationalError\u001b[0m                          Traceback (most recent call last)",
      "\u001b[1;32mc:\\projects\\groupProject\\ISYS-5713-Group-3-Project-\\View\\GA2_Carson_Leavitt_Queries.ipynb Cell 5\u001b[0m line \u001b[0;36m9\n\u001b[0;32m      <a href='vscode-notebook-cell:/c%3A/projects/groupProject/ISYS-5713-Group-3-Project-/View/GA2_Carson_Leavitt_Queries.ipynb#W3sZmlsZQ%3D%3D?line=0'>1</a>\u001b[0m query \u001b[39m=\u001b[39m \u001b[39m\"\"\"\u001b[39m\n\u001b[0;32m      <a href='vscode-notebook-cell:/c%3A/projects/groupProject/ISYS-5713-Group-3-Project-/View/GA2_Carson_Leavitt_Queries.ipynb#W3sZmlsZQ%3D%3D?line=1'>2</a>\u001b[0m \u001b[39m    SELECT power_level, power_name, power_type\u001b[39m\n\u001b[0;32m      <a href='vscode-notebook-cell:/c%3A/projects/groupProject/ISYS-5713-Group-3-Project-/View/GA2_Carson_Leavitt_Queries.ipynb#W3sZmlsZQ%3D%3D?line=2'>3</a>\u001b[0m \u001b[39m    FROM powers\u001b[39m\n\u001b[1;32m   (...)\u001b[0m\n\u001b[0;32m      <a href='vscode-notebook-cell:/c%3A/projects/groupProject/ISYS-5713-Group-3-Project-/View/GA2_Carson_Leavitt_Queries.ipynb#W3sZmlsZQ%3D%3D?line=5'>6</a>\u001b[0m \u001b[39m    ;\u001b[39m\n\u001b[0;32m      <a href='vscode-notebook-cell:/c%3A/projects/groupProject/ISYS-5713-Group-3-Project-/View/GA2_Carson_Leavitt_Queries.ipynb#W3sZmlsZQ%3D%3D?line=6'>7</a>\u001b[0m \u001b[39m    \u001b[39m\u001b[39m\"\"\"\u001b[39m\n\u001b[1;32m----> <a href='vscode-notebook-cell:/c%3A/projects/groupProject/ISYS-5713-Group-3-Project-/View/GA2_Carson_Leavitt_Queries.ipynb#W3sZmlsZQ%3D%3D?line=8'>9</a>\u001b[0m run_query(query,db_file)\n",
      "\u001b[1;32mc:\\projects\\groupProject\\ISYS-5713-Group-3-Project-\\View\\GA2_Carson_Leavitt_Queries.ipynb Cell 5\u001b[0m line \u001b[0;36m9\n\u001b[0;32m      <a href='vscode-notebook-cell:/c%3A/projects/groupProject/ISYS-5713-Group-3-Project-/View/GA2_Carson_Leavitt_Queries.ipynb#W3sZmlsZQ%3D%3D?line=7'>8</a>\u001b[0m \u001b[39mdef\u001b[39;00m \u001b[39mrun_query\u001b[39m(query, db_file):\n\u001b[1;32m----> <a href='vscode-notebook-cell:/c%3A/projects/groupProject/ISYS-5713-Group-3-Project-/View/GA2_Carson_Leavitt_Queries.ipynb#W3sZmlsZQ%3D%3D?line=8'>9</a>\u001b[0m     \u001b[39mwith\u001b[39;00m sqlite3\u001b[39m.\u001b[39;49mconnect(db_file) \u001b[39mas\u001b[39;00m cnn:\n\u001b[0;32m     <a href='vscode-notebook-cell:/c%3A/projects/groupProject/ISYS-5713-Group-3-Project-/View/GA2_Carson_Leavitt_Queries.ipynb#W3sZmlsZQ%3D%3D?line=9'>10</a>\u001b[0m         \u001b[39mreturn\u001b[39;00m pd\u001b[39m.\u001b[39mread_sql(query, cnn)\n",
      "\u001b[1;31mOperationalError\u001b[0m: unable to open database file"
     ]
    }
   ],
   "source": [
    "query = \"\"\"\n",
    "    SELECT power_level, power_name, power_type\n",
    "    FROM powers\n",
    "    ORDER BY power_level DESC\n",
    "    LIMIT 10\n",
    "    ;\n",
    "    \"\"\"\n",
    "\n",
    "run_query(query,db_file)"
   ]
  }
 ],
 "metadata": {
  "kernelspec": {
   "display_name": "Python 3",
   "language": "python",
   "name": "python3"
  },
  "language_info": {
   "codemirror_mode": {
    "name": "ipython",
    "version": 3
   },
   "file_extension": ".py",
   "mimetype": "text/x-python",
   "name": "python",
   "nbconvert_exporter": "python",
   "pygments_lexer": "ipython3",
   "version": "3.11.5"
  },
  "orig_nbformat": 4
 },
 "nbformat": 4,
 "nbformat_minor": 2
}
